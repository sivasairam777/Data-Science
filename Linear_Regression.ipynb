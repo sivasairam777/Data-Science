{
 "cells": [
  {
   "cell_type": "code",
   "execution_count": 58,
   "metadata": {
    "collapsed": false
   },
   "outputs": [],
   "source": [
    "import numpy as np\n",
    "import pandas as pd\n",
    "from matplotlib import pyplot as plt"
   ]
  },
  {
   "cell_type": "code",
   "execution_count": 60,
   "metadata": {
    "collapsed": false
   },
   "outputs": [
    {
     "name": "stdout",
     "output_type": "stream",
     "text": [
      "2.4142857142857133\n",
      "-0.8285714285714231\n",
      "[1.5857142857142903, 4.0000000000000036, 6.4142857142857173, 8.8285714285714292, 11.242857142857142, 13.657142857142857, 16.071428571428569]\n"
     ]
    },
    {
     "data": {
      "image/png": "[encoded data removed]",
      "text/plain": [
       "<matplotlib.figure.Figure at 0xb23a0b8>"
      ]
     },
     "metadata": {},
     "output_type": "display_data"
    }
   ],
   "source": [
    "#global FinalData,sum_x,sum_y,sum_xy\n",
    "class LinearRegression :\n",
    "   \n",
    "    def __init__(self,X,Y):\n",
    "        self.X = X\n",
    "        self.Y = Y\n",
    "    def m(self):\n",
    "        FinalData = pd.DataFrame()\n",
    "        FinalData['X'] = self.X\n",
    "        FinalData['Y'] = self.Y\n",
    "        sum_x  = FinalData['X'].sum()\n",
    "        sum_y  = FinalData['Y'].sum()\n",
    "        sum_xy = (FinalData['X']*FinalData['Y']).sum()\n",
    "        sum_xsqr = (FinalData['X']**2).sum()\n",
    "        sum_x_sqr = sum_x**2\n",
    "        #global m,n\n",
    "        n = len(FinalData)\n",
    "        m = ((n*(sum_xy))-(sum_x*sum_y))/((n*sum_xsqr)-(sum_x_sqr))\n",
    "        print(m)\n",
    "    def c(self):\n",
    "        #global constant\n",
    "        constant = (sum_y - (m*sum_x))/n\n",
    "        print(constant)\n",
    "    def y(self):\n",
    "        y = [(m*X) + constant for  X in FinalData['X']]\n",
    "        print(y)\n",
    "    def visualize(self):\n",
    "        plt.scatter(FinalData['X'],FinalData['Y'])\n",
    "        plt.xlabel('X-Axis')\n",
    "        plt.ylabel('Y-Axis')\n",
    "        plt.title('LineaRegression Plot')\n",
    "        plt.show()\n",
    "obj = LinearRegression([1,2,3,4,5,6,7],[1.5,3.8,6.7,9.0,11.2,13.6,16])\n",
    "obj.m()\n",
    "obj.c()\n",
    "obj.y()\n",
    "obj.visualize()\n",
    "                           \n",
    "    \n",
    "    \n",
    "\n",
    "    \n",
    "    \n",
    "    \n",
    "    \n",
    "    \n",
    "    \n",
    "    \n",
    "    \n",
    "    \n",
    "    \n",
    "    "
   ]
  },
  {
   "cell_type": "code",
   "execution_count": null,
   "metadata": {
    "collapsed": true
   },
   "outputs": [],
   "source": [
    "\n",
    "                    "
   ]
  },
  {
   "cell_type": "code",
   "execution_count": null,
   "metadata": {
    "collapsed": true
   },
   "outputs": [],
   "source": []
  },
  {
   "cell_type": "code",
   "execution_count": null,
   "metadata": {
    "collapsed": true
   },
   "outputs": [],
   "source": []
  },
  {
   "cell_type": "code",
   "execution_count": null,
   "metadata": {
    "collapsed": true
   },
   "outputs": [],
   "source": []
  }
 ],
 "metadata": {
  "anaconda-cloud": {},
  "kernelspec": {
   "display_name": "Python [default]",
   "language": "python",
   "name": "python3"
  },
  "language_info": {
   "codemirror_mode": {
    "name": "ipython",
    "version": 3
   },
   "file_extension": ".py",
   "mimetype": "text/x-python",
   "name": "python",
   "nbconvert_exporter": "python",
   "pygments_lexer": "ipython3",
   "version": "3.5.2"
  }
 },
 "nbformat": 4,
 "nbformat_minor": 1
}
