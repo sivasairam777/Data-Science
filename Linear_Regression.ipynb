{
  "cells": [
    {
      "cell_type": "code",
      "execution_count": 6,
      "metadata": {
        "id": "KgPMFaRqA-Ec"
      },
      "outputs": [],
      "source": [
        "import numpy as np\n",
        "import pandas as pd\n",
        "from matplotlib import pyplot as plt"
      ]
    },
    {
      "cell_type": "code",
      "execution_count": 14,
      "metadata": {
        "colab": {
          "base_uri": "https://localhost:8080/",
          "height": 347
        },
        "id": "CanBZpk5A-Ef",
        "outputId": "0e71c0ad-5e5e-4294-e52c-50387456b755"
      },
      "outputs": [
        {
          "output_type": "stream",
          "name": "stdout",
          "text": [
            "2.4142857142857133\n",
            "-0.8285714285714231\n",
            "[1.5857142857142903, 4.0000000000000036, 6.414285714285717, 8.82857142857143, 11.242857142857142, 13.657142857142857, 16.07142857142857]\n"
          ]
        },
        {
          "output_type": "display_data",
          "data": {
            "text/plain": [
              "<Figure size 432x288 with 1 Axes>"
            ],
            "image/png": "[encoded data removed]"
          },
          "metadata": {
            "needs_background": "light"
          }
        }
      ],
      "source": [
        "class LinearRegression :\n",
        "    def __init__(self,X,Y):\n",
        "        self.X = X\n",
        "        self.Y = Y\n",
        "    def slope(self):\n",
        "        global FinalData,sum_x,sum_y,sum_xy\n",
        "        FinalData = pd.DataFrame()\n",
        "        FinalData['X'] = self.X\n",
        "        FinalData['Y'] = self.Y\n",
        "        sum_x  = FinalData['X'].sum()\n",
        "        sum_y  = FinalData['Y'].sum()\n",
        "        sum_xy = (FinalData['X']*FinalData['Y']).sum()\n",
        "        sum_xsqr = (FinalData['X']**2).sum()\n",
        "        sum_x_sqr = sum_x**2\n",
        "        global m,n\n",
        "        n = len(FinalData)\n",
        "        m = ((n*(sum_xy))-(sum_x*sum_y))/((n*sum_xsqr)-(sum_x_sqr))\n",
        "        print(m)\n",
        "    def constant(self):\n",
        "        global constant\n",
        "        constant = (sum_y - (m*sum_x))/n\n",
        "        print(constant)\n",
        "    def y(self):\n",
        "        y = [(m*x) + constant for  x in FinalData['X']]\n",
        "        print(y)\n",
        "        global future_data,yf\n",
        "        future_data = [i for i in range(8, 12)]\n",
        "        yf = [m * x + constant for x in future_data]\n",
        "        y = y + yf\n",
        "    def visualize(self):\n",
        "        plt.scatter(FinalData['X'],FinalData['Y'])\n",
        "        plt.plot(FinalData['X'],FinalData['Y'])\n",
        "        plt.scatter(future_data, yf)\n",
        "        plt.xlabel('x-axis')\n",
        "        plt.ylabel('y-axis')\n",
        "        plt.title('LineaRegression Plot')\n",
        "        plt.show()\n",
        "obj = LinearRegression([1,2,3,4,5,6,7],[1.5,3.8,6.7,9.0,11.2,13.6,16])\n",
        "obj.slope()\n",
        "obj.constant()\n",
        "obj.y()\n",
        "obj.visualize()  "
      ]
    }
  ],
  "metadata": {
    "anaconda-cloud": {},
    "kernelspec": {
      "display_name": "Python [default]",
      "language": "python",
      "name": "python3"
    },
    "language_info": {
      "codemirror_mode": {
        "name": "ipython",
        "version": 3
      },
      "file_extension": ".py",
      "mimetype": "text/x-python",
      "name": "python",
      "nbconvert_exporter": "python",
      "pygments_lexer": "ipython3",
      "version": "3.5.2"
    },
    "colab": {
      "name": "Linear_Regression.ipynb",
      "provenance": []
    }
  },
  "nbformat": 4,
  "nbformat_minor": 0
}