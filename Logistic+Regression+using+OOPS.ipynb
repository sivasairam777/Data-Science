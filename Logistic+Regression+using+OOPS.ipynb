{
 "cells": [
  {
   "cell_type": "code",
   "execution_count": 3,
   "metadata": {
    "collapsed": true
   },
   "outputs": [],
   "source": [
    "import numpy as np\n",
    "import pandas as pd\n",
    "from matplotlib import pyplot as plt"
   ]
  },
  {
   "cell_type": "code",
   "execution_count": 14,
   "metadata": {
    "collapsed": false
   },
   "outputs": [
    {
     "name": "stdout",
     "output_type": "stream",
     "text": [
      "1.9642990514601528\n",
      "-0.3038315034729998\n",
      "[-0.10740159832698451, 0.089028306819030789, -0.068115617297781483, 0.32474419299424906, 0.6783180222570766, 1.071177832549107, 1.0122488610053026]\n",
      "[0, 1, 0, 1, 1, 1, 1]\n",
      "0.7142857142857143\n"
     ]
    }
   ],
   "source": [
    "class LogisticRegression :\n",
    "   \n",
    "    def __init__(self,X,Y):\n",
    "        self.X = X\n",
    "        self.Y = Y\n",
    "    def m(self):\n",
    "        global FinalData,sum_x,sum_y,sum_xy\n",
    "        FinalData = pd.DataFrame()\n",
    "        FinalData['X'] = self.X\n",
    "        FinalData['Y'] = self.Y\n",
    "        sum_x  = FinalData['X'].sum()\n",
    "        sum_y  = FinalData['Y'].sum()\n",
    "        sum_xy = (FinalData['X']*FinalData['Y']).sum()\n",
    "        sum_xsqr = (FinalData['X']**2).sum()\n",
    "        sum_x_sqr = sum_x**2\n",
    "        global m,n\n",
    "        n = len(FinalData)\n",
    "        m = ((n*(sum_xy))-(sum_x*sum_y))/((n*sum_xsqr)-(sum_x_sqr))\n",
    "        print(m)\n",
    "    def c(self):\n",
    "        global constant\n",
    "        constant = (sum_y - (m*sum_x))/n\n",
    "        print(constant)\n",
    "    def y(self):\n",
    "        global y\n",
    "        y = [(m*X) + constant for  X in FinalData['X']]\n",
    "        print(y)\n",
    "    def z(self):\n",
    "        global zf\n",
    "        z=[1/(1+np.exp(-ys)) for ys in y]\n",
    "        zf = [1 if bs>=0.5 else 0 for bs in z]\n",
    "        print(zf)\n",
    "    def accuracy(self):\n",
    "        correct = 0\n",
    "        for pred, org in zip(zf, FinalData['Y']):\n",
    "            if pred == org:\n",
    "                correct += 1\n",
    "            else:\n",
    "                pass\n",
    "        acc =correct / len(FinalData['Y'])\n",
    "        print(acc)\n",
    "obj = LogisticRegression([0.1, 0.2, 0.12, 0.32, 0.5, 0.7, 0.67],[0, 0, 0, 0, 1, 1, 1])\n",
    "obj.m()\n",
    "obj.c()\n",
    "obj.y()\n",
    "obj.z()\n",
    "obj.accuracy()\n",
    "                           \n",
    "  "
   ]
  },
  {
   "cell_type": "code",
   "execution_count": null,
   "metadata": {
    "collapsed": true
   },
   "outputs": [],
   "source": []
  }
 ],
 "metadata": {
  "kernelspec": {
   "display_name": "Python [default]",
   "language": "python",
   "name": "python3"
  },
  "language_info": {
   "codemirror_mode": {
    "name": "ipython",
    "version": 3
   },
   "file_extension": ".py",
   "mimetype": "text/x-python",
   "name": "python",
   "nbconvert_exporter": "python",
   "pygments_lexer": "ipython3",
   "version": "3.5.2"
  }
 },
 "nbformat": 4,
 "nbformat_minor": 1
}
